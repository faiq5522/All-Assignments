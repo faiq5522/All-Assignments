{
 "cells": [
  {
   "cell_type": "code",
   "execution_count": null,
   "id": "8cb47c72-3aa9-4e6b-90b4-d346bafa2ad8",
   "metadata": {},
   "outputs": [],
   "source": [
    "Write a Python function to find the maximum of three numbers.\n"
   ]
  },
  {
   "cell_type": "code",
   "execution_count": 6,
   "id": "0341ea7c-0099-46a4-a9c1-a3bea4c219b4",
   "metadata": {},
   "outputs": [],
   "source": [
    "def max(a,b,c):\n",
    "    if a>b and a>c:\n",
    "        return a\n",
    "    elif b>a and b>c:\n",
    "        return b\n",
    "    else:\n",
    "        return c"
   ]
  },
  {
   "cell_type": "code",
   "execution_count": 7,
   "id": "56468511-1048-4288-8f41-1403f216ca5a",
   "metadata": {},
   "outputs": [
    {
     "data": {
      "text/plain": [
       "44"
      ]
     },
     "execution_count": 7,
     "metadata": {},
     "output_type": "execute_result"
    }
   ],
   "source": [
    "max(23,44,21)"
   ]
  },
  {
   "cell_type": "code",
   "execution_count": null,
   "id": "02f65ac7-7f50-4ad3-a332-5518a904e4e6",
   "metadata": {},
   "outputs": [],
   "source": [
    "Write a Python function to sum all the numbers in a list. Sample List : (8, 2, 3, 0, 7) Expected Output : 20\n"
   ]
  },
  {
   "cell_type": "code",
   "execution_count": 10,
   "id": "94807a5b-10d9-4a3f-8b6c-5c6adfa26c89",
   "metadata": {},
   "outputs": [],
   "source": [
    "def sum_list(numbers):\n",
    "    total = 0\n",
    "    for x in numbers:\n",
    "        total += x\n",
    "    return total"
   ]
  },
  {
   "cell_type": "code",
   "execution_count": 11,
   "id": "27f226ab-80f3-4ec8-87d1-5d7bd7240274",
   "metadata": {},
   "outputs": [
    {
     "data": {
      "text/plain": [
       "31"
      ]
     },
     "execution_count": 11,
     "metadata": {},
     "output_type": "execute_result"
    }
   ],
   "source": [
    "sum_list([12,2,1,4,5,4,3])"
   ]
  },
  {
   "cell_type": "code",
   "execution_count": null,
   "id": "ea6d52e4-e1af-4744-ba76-a63a337819db",
   "metadata": {},
   "outputs": [],
   "source": [
    "Write a Python function to multiply all the numbers in a list. Sample List : (8, 2, 3, -1, 7) Expected Output : -336\n"
   ]
  },
  {
   "cell_type": "code",
   "execution_count": 13,
   "id": "3f2f07fb-c897-42a5-873a-2f834fa84ad8",
   "metadata": {},
   "outputs": [],
   "source": [
    "def multiply_list(numbers):\n",
    "    product = 1\n",
    "    for number in numbers:\n",
    "        product *= number\n",
    "    return product"
   ]
  },
  {
   "cell_type": "code",
   "execution_count": 14,
   "id": "6243ecb4-ea14-4397-909d-c09384ec91a3",
   "metadata": {},
   "outputs": [
    {
     "data": {
      "text/plain": [
       "40981248"
      ]
     },
     "execution_count": 14,
     "metadata": {},
     "output_type": "execute_result"
    }
   ],
   "source": [
    "multiply_list([2,32,22,33,2,21,21])"
   ]
  },
  {
   "cell_type": "code",
   "execution_count": null,
   "id": "4ed7312e-b03c-4f6c-9a4e-602803d220aa",
   "metadata": {},
   "outputs": [],
   "source": [
    "Write a Python program to reverse a string. Sample String : \"1234abcd\" Expected Output : \"dcba4321\"\n"
   ]
  },
  {
   "cell_type": "code",
   "execution_count": 15,
   "id": "70ef3f78-27bb-4a82-86e4-38ce251f46f8",
   "metadata": {},
   "outputs": [],
   "source": [
    "def reverse_string(string):\n",
    "    reverse_string=string[::-1]\n",
    "    return reverse_string"
   ]
  },
  {
   "cell_type": "code",
   "execution_count": 16,
   "id": "6753ad77-d2da-44d8-b475-937520080b46",
   "metadata": {},
   "outputs": [
    {
     "data": {
      "text/plain": [
       "'qiaf'"
      ]
     },
     "execution_count": 16,
     "metadata": {},
     "output_type": "execute_result"
    }
   ],
   "source": [
    "reverse_string(\"faiq\")"
   ]
  },
  {
   "cell_type": "code",
   "execution_count": null,
   "id": "68dcca6f-57a6-4459-8f6b-a7c391d6ee25",
   "metadata": {},
   "outputs": [],
   "source": [
    "Write a Python function to calculate the factorial of a number (a non-negative integer). The function accepts the number as an argument.\n"
   ]
  },
  {
   "cell_type": "code",
   "execution_count": 17,
   "id": "839d842a-089c-4fe1-ba23-abe9ce7ae4b0",
   "metadata": {},
   "outputs": [],
   "source": [
    "def factorial(number):\n",
    "    fact=1\n",
    "    for i in range(1,number+1):\n",
    "        fact*=i\n",
    "    return fact"
   ]
  },
  {
   "cell_type": "code",
   "execution_count": 18,
   "id": "4bbbbcfe-05a7-4444-b537-2976628dc3d4",
   "metadata": {},
   "outputs": [
    {
     "data": {
      "text/plain": [
       "120"
      ]
     },
     "execution_count": 18,
     "metadata": {},
     "output_type": "execute_result"
    }
   ],
   "source": [
    "factorial(5)\n"
   ]
  },
  {
   "cell_type": "code",
   "execution_count": null,
   "id": "436d5bbb-ce22-4341-9e27-76983c000e7b",
   "metadata": {},
   "outputs": [],
   "source": [
    "Write a Python function to check whether a number falls within a given range.\n"
   ]
  },
  {
   "cell_type": "code",
   "execution_count": 20,
   "id": "4ae89290-def2-4ab2-a418-ccda41ba3f10",
   "metadata": {},
   "outputs": [],
   "source": [
    "def number_in_range(lower_range,upper_range,number):\n",
    "    if number>=lower_range and number<=upper_range:\n",
    "        return \"f{number} Falls within a given Range.\"\n",
    "    else:\n",
    "        return number, \"does not falls within a given range.\""
   ]
  },
  {
   "cell_type": "code",
   "execution_count": 21,
   "id": "f5a4d47a-8791-4e89-8a4a-3910fb9c5ff2",
   "metadata": {},
   "outputs": [
    {
     "data": {
      "text/plain": [
       "(21, 'does not falls within a given range.')"
      ]
     },
     "execution_count": 21,
     "metadata": {},
     "output_type": "execute_result"
    }
   ],
   "source": [
    "number_in_range(23,89,21)"
   ]
  },
  {
   "cell_type": "code",
   "execution_count": null,
   "id": "dd0b8450-7020-404c-88a2-c9698f672d95",
   "metadata": {},
   "outputs": [],
   "source": [
    "Write a Python function that takes a list and returns a new list with distinct elements from the first list. Sample List : [1,2,3,3,3,3,4,5] Unique List : [1, 2, 3, 4, 5]"
   ]
  },
  {
   "cell_type": "code",
   "execution_count": 22,
   "id": "d29ab068-f785-4260-97f6-85dac17aebbe",
   "metadata": {},
   "outputs": [],
   "source": [
    "def unique_list(list):\n",
    "    u_list=[]\n",
    "    for a in list:\n",
    "        if a in u_list:\n",
    "            continue\n",
    "        else:\n",
    "            u_list.append(a)\n",
    "    return u_list"
   ]
  },
  {
   "cell_type": "code",
   "execution_count": 23,
   "id": "239391f1-2618-4634-b6aa-03eaf85360fc",
   "metadata": {},
   "outputs": [
    {
     "data": {
      "text/plain": [
       "[1, 2, 3, 4, 5, 6, 56, 7, 55, 33]"
      ]
     },
     "execution_count": 23,
     "metadata": {},
     "output_type": "execute_result"
    }
   ],
   "source": [
    "unique_list([1,2,2,2,2,3,3,4,4,5,6,56,7,7,6,5,5,55,4,4,4,4,4,33,3,3,3])"
   ]
  },
  {
   "cell_type": "code",
   "execution_count": null,
   "id": "4892027a-c8f0-451e-a82a-aaea0e26f6fa",
   "metadata": {},
   "outputs": [],
   "source": [
    "Write a Python program to print the even numbers from a given list. Sample List : [1, 2, 3, 4, 5, 6, 7, 8, 9] Expected Result : [2, 4, 6, 8]\n"
   ]
  },
  {
   "cell_type": "code",
   "execution_count": 24,
   "id": "f3be2077-b442-4054-b664-d67aa26c89c5",
   "metadata": {},
   "outputs": [],
   "source": [
    "def even_number(list):\n",
    "    new_list=[]\n",
    "    for a in list:\n",
    "        if a%2==0:\n",
    "            new_list.append(a)\n",
    "        else:\n",
    "            continue\n",
    "    return new_list   "
   ]
  },
  {
   "cell_type": "code",
   "execution_count": 25,
   "id": "fae9692d-5c34-4b9f-a5a2-39936c7b481b",
   "metadata": {},
   "outputs": [
    {
     "data": {
      "text/plain": [
       "[12, 334, 4, 6, 6, 76, 4, 34, 2]"
      ]
     },
     "execution_count": 25,
     "metadata": {},
     "output_type": "execute_result"
    }
   ],
   "source": [
    "even_number([12,334,323243,4545,4,5,5,6,7,6,76,7,655,3,4,34,2,3])"
   ]
  },
  {
   "cell_type": "code",
   "execution_count": null,
   "id": "26fce5f0-7b60-4048-ac0a-ef9fabdb7d63",
   "metadata": {},
   "outputs": [],
   "source": []
  },
  {
   "cell_type": "code",
   "execution_count": null,
   "id": "01e1e109-ea73-416c-878a-fd25c7eb1fb4",
   "metadata": {},
   "outputs": [],
   "source": []
  }
 ],
 "metadata": {
  "kernelspec": {
   "display_name": "Python 3 (ipykernel)",
   "language": "python",
   "name": "python3"
  },
  "language_info": {
   "codemirror_mode": {
    "name": "ipython",
    "version": 3
   },
   "file_extension": ".py",
   "mimetype": "text/x-python",
   "name": "python",
   "nbconvert_exporter": "python",
   "pygments_lexer": "ipython3",
   "version": "3.12.7"
  }
 },
 "nbformat": 4,
 "nbformat_minor": 5
}
