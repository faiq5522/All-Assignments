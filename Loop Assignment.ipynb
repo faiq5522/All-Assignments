{
 "cells": [
  {
   "cell_type": "markdown",
   "id": "5c24affc-b3c0-4600-adf5-18e1aae9c25f",
   "metadata": {},
   "source": [
    "# Looping Structures \n",
    "1. Write a Python program to print the numbers from 1 to 10 using a for loop.  "
   ]
  },
  {
   "cell_type": "code",
   "execution_count": 1,
   "id": "6ce20f7e-54c0-4bb1-ade8-6378bb2342dc",
   "metadata": {},
   "outputs": [
    {
     "name": "stdout",
     "output_type": "stream",
     "text": [
      "1\n",
      "2\n",
      "3\n",
      "4\n",
      "5\n",
      "6\n",
      "7\n",
      "8\n",
      "9\n",
      "10\n"
     ]
    }
   ],
   "source": [
    "for i in range(1,11):\n",
    "    print(i)"
   ]
  },
  {
   "cell_type": "markdown",
   "id": "df1bfc41-89ce-4806-9dfa-87c6511357ee",
   "metadata": {},
   "source": [
    "### 2 Write a Python program to print the numbers from 20 to 1 using a while loop. "
   ]
  },
  {
   "cell_type": "code",
   "execution_count": 11,
   "id": "064afbdb-074b-483d-a5d7-014e4ebe90e7",
   "metadata": {},
   "outputs": [
    {
     "name": "stdout",
     "output_type": "stream",
     "text": [
      "20\n",
      "19\n",
      "18\n",
      "17\n",
      "16\n",
      "15\n",
      "14\n",
      "13\n",
      "12\n",
      "11\n",
      "10\n",
      "9\n",
      "8\n",
      "7\n",
      "6\n",
      "5\n",
      "4\n",
      "3\n",
      "2\n",
      "1\n"
     ]
    }
   ],
   "source": [
    "num = 20\n",
    "\n",
    "\n",
    "while num>=1:\n",
    "    print(num)\n",
    "    num -=1"
   ]
  },
  {
   "cell_type": "markdown",
   "id": "7ba56e7f-9a57-4341-97df-a875016f93f7",
   "metadata": {},
   "source": [
    "### 3 Write a program to print even numbers from 1 to 10. "
   ]
  },
  {
   "cell_type": "code",
   "execution_count": 1,
   "id": "f40f739a-627d-41fd-ba7d-e52c57afa9f9",
   "metadata": {},
   "outputs": [
    {
     "name": "stdout",
     "output_type": "stream",
     "text": [
      "2\n",
      "4\n",
      "6\n",
      "8\n",
      "10\n"
     ]
    }
   ],
   "source": [
    "for j in range(1,11):\n",
    "    if j%2==0:\n",
    "        print(j)"
   ]
  },
  {
   "cell_type": "markdown",
   "id": "c7104e37-0956-46b8-8a21-5c543f754896",
   "metadata": {},
   "source": [
    "### 4 Write a program that prompts the user to enter a number n and prints all the numbers from 1 to n.   \n",
    "\n"
   ]
  },
  {
   "cell_type": "code",
   "execution_count": 76,
   "id": "67048c22-1e76-4144-b96c-8af7e6990f25",
   "metadata": {},
   "outputs": [
    {
     "name": "stdin",
     "output_type": "stream",
     "text": [
      "Enter a Number n: n\n"
     ]
    },
    {
     "name": "stdout",
     "output_type": "stream",
     "text": [
      "1\n",
      "2\n",
      "3\n",
      "4\n",
      "5\n",
      "6\n",
      "7\n",
      "8\n",
      "9\n",
      "10\n",
      "11\n",
      "12\n",
      "13\n",
      "14\n",
      "15\n",
      "16\n",
      "17\n",
      "18\n",
      "19\n",
      "20\n"
     ]
    }
   ],
   "source": [
    "n = 20 \n",
    "input(\"Enter a Number n:\")\n",
    "for num in range (1,n+1):\n",
    "\n",
    "    print(num)"
   ]
  },
  {
   "cell_type": "markdown",
   "id": "87089501-0221-4799-ab46-6638affb73f7",
   "metadata": {},
   "source": [
    "### 5 Write a program that prompts the user to enter a number n, and then prints all the odd numbers between 1 and n.   \n"
   ]
  },
  {
   "cell_type": "code",
   "execution_count": 2,
   "id": "1b7792bb-4c16-4ef5-8a55-4e0f177eb332",
   "metadata": {},
   "outputs": [
    {
     "name": "stdin",
     "output_type": "stream",
     "text": [
      "Enter a Number till where you want to print the odd numbers from 1 : 1\n"
     ]
    },
    {
     "name": "stdout",
     "output_type": "stream",
     "text": [
      "1\n"
     ]
    }
   ],
   "source": [
    "n=int(input(\"Enter a Number till where you want to print the odd numbers from 1 :\"))\n",
    "for s in range(1,n+1):\n",
    "    if s%2!=0:\n",
    "        print(s)"
   ]
  },
  {
   "cell_type": "markdown",
   "id": "750e3c40-bcac-4954-9d74-66999f1b8153",
   "metadata": {},
   "source": [
    "### 6 Write a program that prints 'Happy Birthday!' five times on screen. "
   ]
  },
  {
   "cell_type": "code",
   "execution_count": 3,
   "id": "70321b22-e4b2-41e5-95cf-84afcf91ad95",
   "metadata": {},
   "outputs": [
    {
     "name": "stdout",
     "output_type": "stream",
     "text": [
      "HAPPY BIRTHDAY\n",
      "HAPPY BIRTHDAY\n",
      "HAPPY BIRTHDAY\n",
      "HAPPY BIRTHDAY\n",
      "HAPPY BIRTHDAY\n"
     ]
    }
   ],
   "source": [
    "for a in range(5):\n",
    "    print(\"HAPPY BIRTHDAY\")"
   ]
  },
  {
   "cell_type": "markdown",
   "id": "a6587086-a94d-44d1-a070-45713d5f66db",
   "metadata": {},
   "source": [
    "### 7 Write a program that takes a number n as input from the user and generates the first n terms of the series formed by squaring the natural numbers.\n",
    "\n"
   ]
  },
  {
   "cell_type": "code",
   "execution_count": 30,
   "id": "2268f6aa-4718-454f-9a49-bd3c72266a39",
   "metadata": {},
   "outputs": [
    {
     "name": "stdin",
     "output_type": "stream",
     "text": [
      "Enter The Number what u want? 7\n"
     ]
    },
    {
     "name": "stdout",
     "output_type": "stream",
     "text": [
      "1\n",
      "4\n",
      "9\n",
      "16\n",
      "25\n",
      "36\n",
      "49\n",
      " this is a postive number\n"
     ]
    }
   ],
   "source": [
    "n=int(input(\"Enter The Number what u want?\"))\n",
    "if n > 0:\n",
    "    for i in range(1,n+1):\n",
    "        print(i**2)\n",
    "    else:\n",
    "        print(\" this is a postive number\")"
   ]
  },
  {
   "cell_type": "markdown",
   "id": "cbd0c733-74d4-4e5a-98c2-5a70f19a013f",
   "metadata": {},
   "source": [
    "### 8 . Write a program that prompts the user to input a number and prints its multiplication table.  "
   ]
  },
  {
   "cell_type": "code",
   "execution_count": 5,
   "id": "c683f3ed-be0f-43ec-b148-0bd648d56f76",
   "metadata": {},
   "outputs": [
    {
     "name": "stdin",
     "output_type": "stream",
     "text": [
      "Enter a Number to print it's Table 200\n"
     ]
    },
    {
     "name": "stdout",
     "output_type": "stream",
     "text": [
      "200 * 0 = 0\n",
      "200 * 1 = 200\n",
      "200 * 2 = 400\n",
      "200 * 3 = 600\n",
      "200 * 4 = 800\n",
      "200 * 5 = 1000\n",
      "200 * 6 = 1200\n",
      "200 * 7 = 1400\n",
      "200 * 8 = 1600\n",
      "200 * 9 = 1800\n",
      "200 * 10 = 2000\n"
     ]
    }
   ],
   "source": [
    "n =int(input(\"Enter a Number to print it's Table\"))\n",
    "for a in range(11):\n",
    "    print(f\"{n} * {a} = {n*a}\")"
   ]
  },
  {
   "cell_type": "markdown",
   "id": "3adb6446-7705-4f94-9347-188bb5c85988",
   "metadata": {},
   "source": [
    "### 9 Write a Python program to print the first 8 terms of an arithmetic progression starting with 3 and having a common difference of 4. The program should output the following sequence: 3 7 11 15 19 23 27 31 "
   ]
  },
  {
   "cell_type": "code",
   "execution_count": 6,
   "id": "8c358abb-f87a-41fd-a7d6-a4e9db3c9c6b",
   "metadata": {},
   "outputs": [
    {
     "name": "stdout",
     "output_type": "stream",
     "text": [
      "3 7 11 15 19 23 27 31 "
     ]
    }
   ],
   "source": [
    "for a in range(3,32,4):\n",
    "    print(a,end=' ')"
   ]
  },
  {
   "cell_type": "markdown",
   "id": "6f27370f-439c-455f-a38b-03299c84cf56",
   "metadata": {},
   "source": [
    "### 10 Write a Python program to print the first 6 terms of a geometric sequence starting with 2 and having a common ratio of 3. The program should output the following sequence: 2 6 18 54 162 486"
   ]
  },
  {
   "cell_type": "code",
   "execution_count": 7,
   "id": "4f0a1697-457a-46ab-b0d7-0b5072a497cd",
   "metadata": {},
   "outputs": [
    {
     "name": "stdout",
     "output_type": "stream",
     "text": [
      "2 6 18 54 162 486 "
     ]
    }
   ],
   "source": [
    "first_term = 2\n",
    "common_ratio = 3\n",
    "for i in range(6):\n",
    "    term = first_term * (common_ratio ** i)\n",
    "    print(term, end=\" \") "
   ]
  },
  {
   "cell_type": "markdown",
   "id": "42693d03-aea5-4bb5-88fb-0378c7bcbb46",
   "metadata": {},
   "source": [
    "### 11 Write a program that asks the user for a positive integer value. The program should calculate the sum of all the integers from 1 up to the number entered. For example, if the user enters 20, the loop will find the sum of 1, 2, 3, 4, ... 20."
   ]
  },
  {
   "cell_type": "code",
   "execution_count": 8,
   "id": "bd41a650-ff1d-4ec2-b265-4dd94a931fcc",
   "metadata": {},
   "outputs": [
    {
     "name": "stdin",
     "output_type": "stream",
     "text": [
      "Enter a Positive Integer Value : 20\n"
     ]
    },
    {
     "name": "stdout",
     "output_type": "stream",
     "text": [
      "210\n"
     ]
    }
   ],
   "source": [
    "b=0\n",
    "w=int(input(\"Enter a Positive Integer Value :\"))\n",
    "for a in range(1,w+1):\n",
    "    b+=a\n",
    "print(b)\n"
   ]
  },
  {
   "cell_type": "markdown",
   "id": "7cee118b-911b-4a2d-a9bc-9d3070cc7ca5",
   "metadata": {},
   "source": [
    "### 12 write a program that takes a positive integer N as input and calculates the sum of the reciprocals of all numbers from 1 up to N. The program should display the final sum. Output of the program should be like: Enter a positive integer: 5 The sum of reciprocals from 1 to 5 is: 2.28"
   ]
  },
  {
   "cell_type": "code",
   "execution_count": 9,
   "id": "8bf29693-84ae-4832-87dc-7d910df55638",
   "metadata": {},
   "outputs": [
    {
     "name": "stdin",
     "output_type": "stream",
     "text": [
      "Enter a Positive Integer:  2\n"
     ]
    },
    {
     "name": "stdout",
     "output_type": "stream",
     "text": [
      "The Sum of Reciprocals from 1 to 2 is: 2.05\n"
     ]
    }
   ],
   "source": [
    "N=int(input(\"Enter a Positive Integer: \"))\n",
    "for u in range(1,N+1):\n",
    "    u+=1/a\n",
    "print(\"The Sum of Reciprocals from 1 to\",N,\"is:\",u)"
   ]
  },
  {
   "cell_type": "markdown",
   "id": "9a2e513a-d711-43e3-93f1-496140c63736",
   "metadata": {},
   "source": [
    "### 13 Write a program that prompts the user to enter a number and repeats this process 5 times. The program should accumulate the numbers entered and then display the final running total. Sample Output: Enter a number: 10 Enter a number: 15 Enter a number: 35 Enter a number: 40 Enter a number: 50 The final running total is: 150Write a program that prompts the user to enter a number and repeats this process 5 times. The program should accumulate the numbers entered and then display the final running total. Sample Output: Enter a number: 10 Enter a number: 15 Enter a number: 35 Enter a number: 40 Enter a number: 50 The final running total is: 150"
   ]
  },
  {
   "cell_type": "code",
   "execution_count": 4,
   "id": "b8201c98-930f-4834-bfa5-2f45f497760f",
   "metadata": {},
   "outputs": [
    {
     "name": "stdin",
     "output_type": "stream",
     "text": [
      "Enter a Number:  5\n",
      "Enter a Number:  5\n",
      "Enter a Number:  55\n",
      "Enter a Number:  5\n",
      "Enter a Number:  5\n"
     ]
    },
    {
     "name": "stdout",
     "output_type": "stream",
     "text": [
      "The Final Running Output is  75\n"
     ]
    }
   ],
   "source": [
    "s=0\n",
    "for a in range(5):\n",
    "    n=int(input(\"Enter a Number: \"))\n",
    "    s=s+n\n",
    "print(\"The Final Running Output is \",s)\n",
    "    "
   ]
  },
  {
   "cell_type": "markdown",
   "id": "e3795e19-9279-47b7-94e5-32257b3ac616",
   "metadata": {},
   "source": [
    "14. Write a program that prompts the user to enter a positive integer and calculates its \n",
    "factorial. The factorial of a positive integer 'n' is denoted as 'n!' and is calculated by \n",
    "multiplying all the integers from 1 to 'n' together. For example, the factorial of 5 \n",
    "(denoted as 5!) is calculated as 1 x 2 x 3 x 4 x 5. "
   ]
  },
  {
   "cell_type": "code",
   "execution_count": 21,
   "id": "8b1df578-7b91-4664-b214-2ee042e699b2",
   "metadata": {},
   "outputs": [
    {
     "name": "stdin",
     "output_type": "stream",
     "text": [
      "Enter a Positive Integer:  2\n"
     ]
    },
    {
     "name": "stdout",
     "output_type": "stream",
     "text": [
      "Factorial of a given number 2 is 2\n"
     ]
    }
   ],
   "source": [
    "factorial=1\n",
    "n=int(input(\"Enter a Positive Integer: \"))\n",
    "for a in  range(1,n+1):\n",
    "    factorial*=a\n",
    "print(\"Factorial of a given number\",n,\"is\",factorial)"
   ]
  },
  {
   "cell_type": "markdown",
   "id": "0edbd3af-a1c0-4e5c-848a-46f7a341d574",
   "metadata": {},
   "source": [
    "15. Write a Python program that prompts the user to enter a base number and an \n",
    "exponent, and then calculates the power of the base to the exponent. The program \n",
    "should not use the exponentiation operator (**) or the math.pow() function. The \n",
    "program should handle both positive and negative exponents. "
   ]
  },
  {
   "cell_type": "code",
   "execution_count": 25,
   "id": "fd611d29-a5d6-4e6c-b534-d538eaaf6e59",
   "metadata": {},
   "outputs": [
    {
     "name": "stdin",
     "output_type": "stream",
     "text": [
      "Enter a number:  5\n",
      "Enter exponent of Power:  5\n"
     ]
    },
    {
     "name": "stdout",
     "output_type": "stream",
     "text": [
      "3125\n"
     ]
    }
   ],
   "source": [
    "n=int(input(\"Enter a number: \"))\n",
    "p=int(input(\"Enter exponent of Power: \"))\n",
    "pwr=n**p\n",
    "print(pwr)"
   ]
  },
  {
   "cell_type": "code",
   "execution_count": null,
   "id": "84d56aa3-c6be-43d3-be4a-8fd1cbca5e05",
   "metadata": {},
   "outputs": [],
   "source": []
  },
  {
   "cell_type": "code",
   "execution_count": null,
   "id": "c0932e59-bdf9-4ad8-8712-c843ec22cbf7",
   "metadata": {},
   "outputs": [],
   "source": []
  }
 ],
 "metadata": {
  "kernelspec": {
   "display_name": "Python 3 (ipykernel)",
   "language": "python",
   "name": "python3"
  },
  "language_info": {
   "codemirror_mode": {
    "name": "ipython",
    "version": 3
   },
   "file_extension": ".py",
   "mimetype": "text/x-python",
   "name": "python",
   "nbconvert_exporter": "python",
   "pygments_lexer": "ipython3",
   "version": "3.12.7"
  }
 },
 "nbformat": 4,
 "nbformat_minor": 5
}
