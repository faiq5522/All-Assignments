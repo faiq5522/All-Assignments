{
 "cells": [
  {
   "cell_type": "markdown",
   "id": "d307a65b-4546-4ba0-869a-59ca2493f967",
   "metadata": {},
   "source": [
    "#                                                   List Assignment \n",
    "1. Write a program that accepts a list from user and print the alternate element of list. "
   ]
  },
  {
   "cell_type": "code",
   "execution_count": 12,
   "id": "9bb172ef-7171-4ed1-8041-96ab56e0643f",
   "metadata": {},
   "outputs": [
    {
     "name": "stdin",
     "output_type": "stream",
     "text": [
      "Enter The List Elemnet 1 2 3 4 5 6 7 8 9\n"
     ]
    },
    {
     "name": "stdout",
     "output_type": "stream",
     "text": [
      "alternate element are ['1', '3', '5', '7', '9']\n"
     ]
    }
   ],
   "source": [
    "user_input = input(\"Enter The List Elemnet\")\n",
    "input_list =user_input.split()\n",
    "alternate_Element = input_list[::2]\n",
    "print(\"alternate element are\",alternate_Element)"
   ]
  },
  {
   "cell_type": "markdown",
   "id": "3fce45c1-1ad5-4fc5-b29b-06af53c4b9ee",
   "metadata": {},
   "source": [
    "### 2. Write a program that accepts a list from user. Your program should reverse the content of list and display it. Do not use reverse() method.  \n"
   ]
  },
  {
   "cell_type": "code",
   "execution_count": 29,
   "id": "f8537d3f-b136-4d0f-962f-1e3a0c629c37",
   "metadata": {},
   "outputs": [
    {
     "name": "stdin",
     "output_type": "stream",
     "text": [
      "Enter The unreversed number 1 2 3 4 5 \n"
     ]
    },
    {
     "name": "stdout",
     "output_type": "stream",
     "text": [
      "Reversed Number are : ['5', '4', '3', '2', '1']\n"
     ]
    }
   ],
   "source": [
    "user_input = input(\"Enter The unreversed number\")\n",
    "input_list = user_input.split()\n",
    "Reversed_list = input_list[::-1]\n",
    "print(\"Reversed Number are :\",reversed_list)\n"
   ]
  },
  {
   "cell_type": "markdown",
   "id": "3792b62b-e4bd-4e48-af55-6990dff2548c",
   "metadata": {},
   "source": [
    "### 3. Find and display the largest number of a list without using built-in function max(). Your program  should ask the user to input values in list from keyboard.\n",
    "  "
   ]
  },
  {
   "cell_type": "code",
   "execution_count": 1,
   "id": "051e8da6-4336-479f-b1b0-13b5bf90eb64",
   "metadata": {},
   "outputs": [
    {
     "name": "stdin",
     "output_type": "stream",
     "text": [
      "Enter numbers separated by spaces:  1 2 3 4 5\n"
     ]
    },
    {
     "name": "stdout",
     "output_type": "stream",
     "text": [
      "The largest number is: 5\n"
     ]
    }
   ],
   "source": [
    "user_input = input(\"Enter numbers separated by spaces: \")\n",
    "user_list = [int(x) for x in user_input.split()]\n",
    "\n",
    "largest = user_list[0]\n",
    "for num in user_list:\n",
    "    if num > largest:\n",
    "        largest = num\n",
    "\n",
    "print(\"The largest number is:\", largest)"
   ]
  },
  {
   "cell_type": "markdown",
   "id": "a23dcc67-00de-4850-9ccb-d981b678e399",
   "metadata": {},
   "source": [
    "### 4. Write a program that rotates the element of a list so that the element at the first index moves to thesecond index, the element in the second index moves to the third index, etc., and the element in the last index moves to the first index."
   ]
  },
  {
   "cell_type": "code",
   "execution_count": 3,
   "id": "57d975a4-07b1-4bf3-8aad-b79f210958ee",
   "metadata": {},
   "outputs": [
    {
     "name": "stdin",
     "output_type": "stream",
     "text": [
      "Enter list elements separated by spaces:  1 2 3 4 5 \n"
     ]
    },
    {
     "name": "stdout",
     "output_type": "stream",
     "text": [
      "Rotated list is: ['5', '1', '2', '3', '4']\n"
     ]
    }
   ],
   "source": [
    "user_input = input(\"Enter list elements separated by spaces: \")\n",
    "user_list = user_input.split()\n",
    "\n",
    "rotated_list = user_list[-1:] + user_list[:-1]\n",
    "print(\"Rotated list is:\", rotated_list)\n"
   ]
  },
  {
   "cell_type": "markdown",
   "id": "fe79ff98-9ec4-490f-9055-80b665f7d0b7",
   "metadata": {},
   "source": [
    "### 5. Write a program that input a string and ask user to delete a given word from a string.\n"
   ]
  },
  {
   "cell_type": "code",
   "execution_count": 6,
   "id": "314d1843-914e-4dee-8772-4275304a73e4",
   "metadata": {},
   "outputs": [
    {
     "name": "stdin",
     "output_type": "stream",
     "text": [
      "Enter a sentence:  gaiq\n",
      "Enter the word to delete:  a\n"
     ]
    },
    {
     "name": "stdout",
     "output_type": "stream",
     "text": [
      "Updated string: giq\n"
     ]
    }
   ],
   "source": [
    "input_string = input(\"Enter a sentence: \")\n",
    "word_to_delete = input(\"Enter the word to delete: \")\n",
    "\n",
    "new_string = input_string.replace(word_to_delete, \"\").strip()  \n",
    "print(\"Updated string:\", new_string)"
   ]
  },
  {
   "cell_type": "markdown",
   "id": "8d59612e-0057-4072-bb91-9373d581ce94",
   "metadata": {},
   "source": [
    "### 6. Write a program that reads a string from the user containing a date in the form mm/dd/yyyy. Itshould print the date in the form March 12, 2021."
   ]
  },
  {
   "cell_type": "code",
   "execution_count": 8,
   "id": "9e39ce16-d631-4437-a362-f49b1b658a27",
   "metadata": {},
   "outputs": [
    {
     "name": "stdin",
     "output_type": "stream",
     "text": [
      "Enter a date in mm/dd/yyyy format:  12/12/2024\n"
     ]
    },
    {
     "name": "stdout",
     "output_type": "stream",
     "text": [
      "Formatted date: December 12, 2024\n"
     ]
    }
   ],
   "source": [
    "months = [\"January\", \"February\", \"March\", \"April\", \"May\", \"June\", \n",
    "          \"July\", \"August\", \"September\", \"October\", \"November\", \"December\"]\n",
    "\n",
    "date_input = input(\"Enter a date in mm/dd/yyyy format: \")\n",
    "month, day, year = date_input.split(\"/\")\n",
    "\n",
    "month_name = months[int(month) - 1]\n",
    "print(f\"Formatted date: {month_name} {int(day)}, {year}\")"
   ]
  },
  {
   "cell_type": "markdown",
   "id": "102b9c76-3795-469a-8e73-102ad512b2ee",
   "metadata": {},
   "source": [
    "### 7. Write a program with a function that accepts a string from keyboard and create a new string after converting character of each word capitalized. For instance, if the sentence is \"stop and smell the roses.\"the output should be \"Stop And Smell TheRoses\""
   ]
  },
  {
   "cell_type": "code",
   "execution_count": 9,
   "id": "85a67d97-e300-4aef-9992-9205b08894c6",
   "metadata": {},
   "outputs": [
    {
     "name": "stdin",
     "output_type": "stream",
     "text": [
      "Enter a sentence:  faiq\n"
     ]
    },
    {
     "name": "stdout",
     "output_type": "stream",
     "text": [
      "Updated sentence: Faiq\n"
     ]
    }
   ],
   "source": [
    "def capitalize_words(sentence):\n",
    "    words = sentence.split()  \n",
    "    capitalized_words = [word.capitalize() for word in words]  \n",
    "    return \" \".join(capitalized_words) \n",
    "sentence = input(\"Enter a sentence: \")\n",
    "new_sentence = capitalize_words(sentence)\n",
    "print(\"Updated sentence:\", new_sentence)"
   ]
  },
  {
   "cell_type": "markdown",
   "id": "18b6400a-9772-48f1-955f-ce139ada8b79",
   "metadata": {},
   "source": [
    "### 8. Find the sum of each row of matrix of size m x n. For example for the following matrix output will be\n",
    "## like this :\n",
    "\n",
    "#### Sum of row 1 = 32\n",
    "#### Sum of row 2 = 31\n",
    "#### Sum of row 3 = 63\n"
   ]
  },
  {
   "cell_type": "code",
   "execution_count": 10,
   "id": "ab7b0e28-b5e2-4e81-b3b7-1e049586a52d",
   "metadata": {},
   "outputs": [
    {
     "name": "stdout",
     "output_type": "stream",
     "text": [
      "Sum of row 1 = 32\n",
      "Sum of row 2 = 31\n",
      "Sum of row 3 = 63\n"
     ]
    }
   ],
   "source": [
    "matrix = [\n",
    "    [2, 11, 7, 12],\n",
    "    [5, 2, 9, 15],\n",
    "    [8, 3, 10, 42]\n",
    "]\n",
    "\n",
    "for i, row in enumerate(matrix):\n",
    "    row_sum = sum(row)  # Sum of the current row\n",
    "    print(f\"Sum of row {i + 1} = {row_sum}\")"
   ]
  },
  {
   "cell_type": "markdown",
   "id": "b797fa45-44b8-479b-959b-19094ec76a7a",
   "metadata": {},
   "source": [
    "### 10. Write a program to multiply two matrices"
   ]
  },
  {
   "cell_type": "code",
   "execution_count": 11,
   "id": "3f53128c-5aca-4e3e-9f28-c1af141b6004",
   "metadata": {},
   "outputs": [
    {
     "name": "stdout",
     "output_type": "stream",
     "text": [
      "[10, 10, 10]\n",
      "[10, 10, 10]\n",
      "[10, 10, 10]\n"
     ]
    }
   ],
   "source": [
    "def add_matrices(matrix1, matrix2):\n",
    "    result = []\n",
    "    for i in range(len(matrix1)):\n",
    "        row = []\n",
    "        for j in range(len(matrix1[i])):\n",
    "            row.append(matrix1[i][j] + matrix2[i][j])\n",
    "        result.append(row)\n",
    "    return result\n",
    "\n",
    "matrix1 = [\n",
    "    [1, 2, 3],\n",
    "    [4, 5, 6],\n",
    "    [7, 8, 9]\n",
    "]\n",
    "\n",
    "matrix2 = [\n",
    "    [9, 8, 7],\n",
    "    [6, 5, 4],\n",
    "    [3, 2, 1]\n",
    "]\n",
    "\n",
    "result_matrix = add_matrices(matrix1, matrix2)\n",
    "\n",
    "for row in result_matrix:\n",
    "    print(row)"
   ]
  },
  {
   "cell_type": "code",
   "execution_count": null,
   "id": "bc33ea07-30ce-4612-aaea-54328e6ac03c",
   "metadata": {},
   "outputs": [],
   "source": []
  }
 ],
 "metadata": {
  "kernelspec": {
   "display_name": "Python 3 (ipykernel)",
   "language": "python",
   "name": "python3"
  },
  "language_info": {
   "codemirror_mode": {
    "name": "ipython",
    "version": 3
   },
   "file_extension": ".py",
   "mimetype": "text/x-python",
   "name": "python",
   "nbconvert_exporter": "python",
   "pygments_lexer": "ipython3",
   "version": "3.12.7"
  }
 },
 "nbformat": 4,
 "nbformat_minor": 5
}
